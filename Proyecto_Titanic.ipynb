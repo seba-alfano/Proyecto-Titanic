{
  "nbformat": 4,
  "nbformat_minor": 0,
  "metadata": {
    "colab": {
      "name": "Proyecto Titanic.ipynb",
      "provenance": [],
      "collapsed_sections": []
    },
    "kernelspec": {
      "name": "python3",
      "display_name": "Python 3"
    }
  },
  "cells": [
    {
      "cell_type": "markdown",
      "metadata": {
        "id": "LO8B6H3wHq_x"
      },
      "source": [
        "# Titanic\n",
        "\n",
        "El Titanic fue un barco britanico que rompia record de mayor cantidad de pasajeros, con una capacidad de mas de 2700 pasajeros y con mas de 800 tripulantes, el mismo proporsionaba varios lujos y servicios ademas de que incorporaba lo mejor en medidas de seguridad, sin embargo, debido a varios fallos de los oficiales a cargo, termino chocando un iceberg el cual pudo dañar la cubierta y finalmente causando el hundimiento del barco lo que dejo la muerte de cientos de pasajeros.\n",
        "\n",
        "# Proyecto\n",
        "\n",
        "En este modulo vamos a hacer un proyecto entero de aprendizaje supervisado, pasando por todos los pasos del mismo, los cuales son:\n",
        "\n",
        "* Definición del problema.\n",
        "* Búsqueda de datos. \n",
        "* Análisis exploratorio y limpieza.\n",
        "* Separación de entrenamiento y validación.\n",
        "* Entrenamiento.\n",
        "* Prueba.\n",
        "* Presentación de resultados. \n",
        "\n",
        "## Definición del problema\n",
        "\n",
        "Todo proyecto de aprendizaje automático parte de una pregunta que se quiere responder, en este caso la pregunta es:\n",
        "\n",
        "**¿Cuál es la probabilidad de sobrevivir de un pasajero con cualidades específicas, como género, edad, nivel socioecónomico, etc. en un naufragio similar al del Titanic?**\n",
        "\n",
        "## Búsqueda de datos\n",
        " \n",
        "Los datos que usaremos se encuentran en [Kaggle](https://www.kaggle.com/c/titanic/data) (Página muy conocida y recomendada en el mundo de la ciencia de datos, con competencias, conjuntos de datos, cursos e información muy valiosa), allí deberán registrarse y aceptar las reglas de la competencia antes de poder bajarse los datos. Estos incluyen un conjunto de datos de entrenamiento (train.csv) y un conjunto de datos de prueba (test.csv) contra el cual probar nuestras predicciones. El objetivo final de analizar este dataset, será predecir de forma correcta si los pasajeros del dataset de pruebas sobreviven o no al accidente. \n",
        " \n",
        "Una vez que tengan los datos podemos subir los csv a nuestros notebooks como aprendimos en el módulo pasado. \n",
        "\n",
        "Primero debemos subir el conjunto de datos de entrenamiento, y durante todo el proyecto solo usaremos este conjunto de datos, el de prueba solo se usara al final una vez que se termine de entrenar y validar el modelo a usar. "
      ]
    },
    {
      "cell_type": "markdown",
      "metadata": {
        "id": "r4jGXPl-URWx"
      },
      "source": [
        "**1. ¿Qué pasa si usamos el conjunto de prueba en alguno de los pasos previos al de prueba?**\n",
        "\n",
        "Lo que va a suceder si utilizamos el conjunto de prueba antes de los pasos previos, es que el modelo nos va a entregar resultados irreales con ineficacia, esto se debe a que nunca se deben de mezclar los datos o pasos.\n",
        "Para poner un ejemplo sencillo, si intentas de trabajar con unos datos, lo primero que debes de hacer es cargarlos, ya que, sino esto dara error y no podras laborar con los mencionados."
      ]
    },
    {
      "cell_type": "code",
      "metadata": {
        "id": "Bh3YmTfqFhAx",
        "colab": {
          "resources": {
            "http://localhost:8080/nbextensions/google.colab/files.js": {
              "data": "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",
              "ok": true,
              "headers": [
                [
                  "content-type",
                  "application/javascript"
                ]
              ],
              "status": 200,
              "status_text": ""
            }
          },
          "base_uri": "https://localhost:8080/",
          "height": 72
        },
        "outputId": "373a4edc-76a2-411e-f751-6d494776e4d0"
      },
      "source": [
        "import pandas as pd\n",
        "import matplotlib.pyplot as plt\n",
        "import seaborn as sns\n",
        "from google.colab import files\n",
        "import io\n",
        "\n",
        "filesUploaded = files.upload()"
      ],
      "execution_count": null,
      "outputs": [
        {
          "output_type": "display_data",
          "data": {
            "text/html": [
              "\n",
              "     <input type=\"file\" id=\"files-e05d4eb7-57c8-43cc-9fa3-7657f83c14cd\" name=\"files[]\" multiple disabled\n",
              "        style=\"border:none\" />\n",
              "     <output id=\"result-e05d4eb7-57c8-43cc-9fa3-7657f83c14cd\">\n",
              "      Upload widget is only available when the cell has been executed in the\n",
              "      current browser session. Please rerun this cell to enable.\n",
              "      </output>\n",
              "      <script src=\"/nbextensions/google.colab/files.js\"></script> "
            ],
            "text/plain": [
              "<IPython.core.display.HTML object>"
            ]
          },
          "metadata": {
            "tags": []
          }
        },
        {
          "output_type": "stream",
          "text": [
            "Saving train.csv to train.csv\n"
          ],
          "name": "stdout"
        }
      ]
    },
    {
      "cell_type": "code",
      "metadata": {
        "id": "epIQ-QPvHUza"
      },
      "source": [
        "train = pd.read_csv(\"train.csv\")"
      ],
      "execution_count": null,
      "outputs": []
    },
    {
      "cell_type": "markdown",
      "metadata": {
        "id": "LA0GAVJuRx9Y"
      },
      "source": [
        "## Análisis exploratorio y limpieza.\n",
        "\n",
        "Esta sección es fundamental y en la que se invierte más tiempo en cualquier proyecto de aprendizaje automático, debemos decidir:\n",
        "* ¿Qué variables se van a usar? \n",
        "* ¿Hay que eliminar algúnas observaciones?\n",
        "* ¿Hay datos faltantes? ¿Qué haremos con ellos?\n",
        "* ¿Hay datos atípicos? ¿Qué haremos con ellos?\n",
        "* ¿Todas las variables a usar estan limpias?\n",
        "* ¿Crearemos nuevas variables?\n",
        "* ¿Qué información extra podemos obtener de los datos?\n",
        "\n",
        "Es importante tomar en cuenta que este proceso suele ser itérativo, es decir, limpiamos los datos, seleccionamos las variables, creamos algunas nuevas y revisamos, probablemente en la revisión salten algunas nuevas variables o datos atípicos, por lo que volvemos a comenzar el proceso. \n",
        "\n",
        "También es de vital importancia mantener registro de todo lo que se le hagan a los datos y el orden, para poder reproducir los resultados, y, más aún, por que los datos que reciba el modelo una vez puesto en producción, deben de recibir el mismo tratamiento.\n",
        "\n"
      ]
    },
    {
      "cell_type": "markdown",
      "metadata": {
        "id": "2wensaGHX8GH"
      },
      "source": [
        "**2. Describa brevemente todas las variables del conjunto de datos, sus tipos, rangos, relaciones con otras variables, etc.**\n",
        "\n",
        "**2.1 ¿Qué información podemos concluir aplicando el método _describe_?**"
      ]
    },
    {
      "cell_type": "code",
      "metadata": {
        "id": "hEe6Q8J17-Kq",
        "colab": {
          "base_uri": "https://localhost:8080/",
          "height": 297
        },
        "outputId": "473d3187-4fc0-4890-8c8d-197cdf10082f"
      },
      "source": [
        "train.describe()"
      ],
      "execution_count": null,
      "outputs": [
        {
          "output_type": "execute_result",
          "data": {
            "text/html": [
              "<div>\n",
              "<style scoped>\n",
              "    .dataframe tbody tr th:only-of-type {\n",
              "        vertical-align: middle;\n",
              "    }\n",
              "\n",
              "    .dataframe tbody tr th {\n",
              "        vertical-align: top;\n",
              "    }\n",
              "\n",
              "    .dataframe thead th {\n",
              "        text-align: right;\n",
              "    }\n",
              "</style>\n",
              "<table border=\"1\" class=\"dataframe\">\n",
              "  <thead>\n",
              "    <tr style=\"text-align: right;\">\n",
              "      <th></th>\n",
              "      <th>PassengerId</th>\n",
              "      <th>Survived</th>\n",
              "      <th>Pclass</th>\n",
              "      <th>Age</th>\n",
              "      <th>SibSp</th>\n",
              "      <th>Parch</th>\n",
              "      <th>Fare</th>\n",
              "    </tr>\n",
              "  </thead>\n",
              "  <tbody>\n",
              "    <tr>\n",
              "      <th>count</th>\n",
              "      <td>891.000000</td>\n",
              "      <td>891.000000</td>\n",
              "      <td>891.000000</td>\n",
              "      <td>714.000000</td>\n",
              "      <td>891.000000</td>\n",
              "      <td>891.000000</td>\n",
              "      <td>891.000000</td>\n",
              "    </tr>\n",
              "    <tr>\n",
              "      <th>mean</th>\n",
              "      <td>446.000000</td>\n",
              "      <td>0.383838</td>\n",
              "      <td>2.308642</td>\n",
              "      <td>29.699118</td>\n",
              "      <td>0.523008</td>\n",
              "      <td>0.381594</td>\n",
              "      <td>32.204208</td>\n",
              "    </tr>\n",
              "    <tr>\n",
              "      <th>std</th>\n",
              "      <td>257.353842</td>\n",
              "      <td>0.486592</td>\n",
              "      <td>0.836071</td>\n",
              "      <td>14.526497</td>\n",
              "      <td>1.102743</td>\n",
              "      <td>0.806057</td>\n",
              "      <td>49.693429</td>\n",
              "    </tr>\n",
              "    <tr>\n",
              "      <th>min</th>\n",
              "      <td>1.000000</td>\n",
              "      <td>0.000000</td>\n",
              "      <td>1.000000</td>\n",
              "      <td>0.420000</td>\n",
              "      <td>0.000000</td>\n",
              "      <td>0.000000</td>\n",
              "      <td>0.000000</td>\n",
              "    </tr>\n",
              "    <tr>\n",
              "      <th>25%</th>\n",
              "      <td>223.500000</td>\n",
              "      <td>0.000000</td>\n",
              "      <td>2.000000</td>\n",
              "      <td>20.125000</td>\n",
              "      <td>0.000000</td>\n",
              "      <td>0.000000</td>\n",
              "      <td>7.910400</td>\n",
              "    </tr>\n",
              "    <tr>\n",
              "      <th>50%</th>\n",
              "      <td>446.000000</td>\n",
              "      <td>0.000000</td>\n",
              "      <td>3.000000</td>\n",
              "      <td>28.000000</td>\n",
              "      <td>0.000000</td>\n",
              "      <td>0.000000</td>\n",
              "      <td>14.454200</td>\n",
              "    </tr>\n",
              "    <tr>\n",
              "      <th>75%</th>\n",
              "      <td>668.500000</td>\n",
              "      <td>1.000000</td>\n",
              "      <td>3.000000</td>\n",
              "      <td>38.000000</td>\n",
              "      <td>1.000000</td>\n",
              "      <td>0.000000</td>\n",
              "      <td>31.000000</td>\n",
              "    </tr>\n",
              "    <tr>\n",
              "      <th>max</th>\n",
              "      <td>891.000000</td>\n",
              "      <td>1.000000</td>\n",
              "      <td>3.000000</td>\n",
              "      <td>80.000000</td>\n",
              "      <td>8.000000</td>\n",
              "      <td>6.000000</td>\n",
              "      <td>512.329200</td>\n",
              "    </tr>\n",
              "  </tbody>\n",
              "</table>\n",
              "</div>"
            ],
            "text/plain": [
              "       PassengerId    Survived      Pclass  ...       SibSp       Parch        Fare\n",
              "count   891.000000  891.000000  891.000000  ...  891.000000  891.000000  891.000000\n",
              "mean    446.000000    0.383838    2.308642  ...    0.523008    0.381594   32.204208\n",
              "std     257.353842    0.486592    0.836071  ...    1.102743    0.806057   49.693429\n",
              "min       1.000000    0.000000    1.000000  ...    0.000000    0.000000    0.000000\n",
              "25%     223.500000    0.000000    2.000000  ...    0.000000    0.000000    7.910400\n",
              "50%     446.000000    0.000000    3.000000  ...    0.000000    0.000000   14.454200\n",
              "75%     668.500000    1.000000    3.000000  ...    1.000000    0.000000   31.000000\n",
              "max     891.000000    1.000000    3.000000  ...    8.000000    6.000000  512.329200\n",
              "\n",
              "[8 rows x 7 columns]"
            ]
          },
          "metadata": {
            "tags": []
          },
          "execution_count": 4
        }
      ]
    },
    {
      "cell_type": "markdown",
      "metadata": {
        "id": "SxGgNDlh79kx"
      },
      "source": [
        "La informacion que podemos concluir con el metodo _Describe_ es, cantidad y tipo de datos que se encuentran disponibles en el dataframe, basicamente, una información estadistica sobre el valor minimo, medio, maximo o porcentual, etc.\n",
        "\n",
        "Mas especificamente en este DataFrame, lo que podemos notar es que para cada variable tenemos un total de 891 datos, excepto en la variable Age, que se encuentran 714. Asi tambien podemos notar que en la mayoria de casos el valor minimo es 0 mientras que en algunos como PassengerId es 1. Ese tipo de informacion nos hace dar una idea sobre los tipos de datos que trabajamos para saber llevarlos a delante en el proceso de ánalisis."
      ]
    },
    {
      "cell_type": "markdown",
      "metadata": {
        "id": "Gh398WHt9Kj2"
      },
      "source": [
        "**2.2 ¿Cuantos datos hay en cada clase de la variable _Pclass_?**"
      ]
    },
    {
      "cell_type": "code",
      "metadata": {
        "id": "iMch9pn-9T58",
        "colab": {
          "base_uri": "https://localhost:8080/",
          "height": 454
        },
        "outputId": "fe725f6f-d6de-4702-891b-4e82c24fda55"
      },
      "source": [
        "print(train.Pclass.value_counts())\n",
        "sns.displot(data = train, x = \"Pclass\")"
      ],
      "execution_count": null,
      "outputs": [
        {
          "output_type": "stream",
          "text": [
            "3    491\n",
            "1    216\n",
            "2    184\n",
            "Name: Pclass, dtype: int64\n"
          ],
          "name": "stdout"
        },
        {
          "output_type": "execute_result",
          "data": {
            "text/plain": [
              "<seaborn.axisgrid.FacetGrid at 0x7f9409844d10>"
            ]
          },
          "metadata": {
            "tags": []
          },
          "execution_count": 5
        },
        {
          "output_type": "display_data",
          "data": {
            "image/png": "[encoded data removed]",
            "text/plain": [
              "<Figure size 360x360 with 1 Axes>"
            ]
          },
          "metadata": {
            "tags": [],
            "needs_background": "light"
          }
        }
      ]
    },
    {
      "cell_type": "markdown",
      "metadata": {
        "id": "tTDayMWUlqHH"
      },
      "source": [
        "Con el grafico podemos observar cuantos datos se encuentran en la variable _Pclass_, pero igualmente los vamos detallar.\n",
        "\n",
        "###Primero ¿que quiere decir esta variable?\n",
        "\n",
        "Lo que nos intenta mostrar es las distintas clases que habia en el barco, es decir, puede ser de mas cara a mas economica, con mas servicios o con menos y con mejores habitaciones o peores.\n",
        "\n",
        "Lo que se puede determinar de esta variable es que La mas demandada fue la clase 3, con un total de 491. Despues sigue la 1 con un total de 216. Por último la clase menos demandada, la 2, con un total de 184.\n",
        "\n",
        "###¿Que conclusiones podemos sacar?\n",
        "\n",
        "Probablemente la conclusion mas certada es que a menor sea el numero de la clase, mas servicios van a prestar y su precio deberia de ser mas elevado."
      ]
    },
    {
      "cell_type": "markdown",
      "metadata": {
        "id": "uESFzWfb90Ym"
      },
      "source": [
        "**2.3 ¿Con que variables esta más relacionada la variable _Survived_? ¿Tiene sentido esas relaciones?**"
      ]
    },
    {
      "cell_type": "code",
      "metadata": {
        "id": "GhsvCE1C-Bo2",
        "colab": {
          "base_uri": "https://localhost:8080/",
          "height": 266
        },
        "outputId": "13c15836-a49a-4760-8928-8ee4ef1bee3d"
      },
      "source": [
        "train.corr()"
      ],
      "execution_count": null,
      "outputs": [
        {
          "output_type": "execute_result",
          "data": {
            "text/html": [
              "<div>\n",
              "<style scoped>\n",
              "    .dataframe tbody tr th:only-of-type {\n",
              "        vertical-align: middle;\n",
              "    }\n",
              "\n",
              "    .dataframe tbody tr th {\n",
              "        vertical-align: top;\n",
              "    }\n",
              "\n",
              "    .dataframe thead th {\n",
              "        text-align: right;\n",
              "    }\n",
              "</style>\n",
              "<table border=\"1\" class=\"dataframe\">\n",
              "  <thead>\n",
              "    <tr style=\"text-align: right;\">\n",
              "      <th></th>\n",
              "      <th>PassengerId</th>\n",
              "      <th>Survived</th>\n",
              "      <th>Pclass</th>\n",
              "      <th>Age</th>\n",
              "      <th>SibSp</th>\n",
              "      <th>Parch</th>\n",
              "      <th>Fare</th>\n",
              "    </tr>\n",
              "  </thead>\n",
              "  <tbody>\n",
              "    <tr>\n",
              "      <th>PassengerId</th>\n",
              "      <td>1.000000</td>\n",
              "      <td>-0.005007</td>\n",
              "      <td>-0.035144</td>\n",
              "      <td>0.036847</td>\n",
              "      <td>-0.057527</td>\n",
              "      <td>-0.001652</td>\n",
              "      <td>0.012658</td>\n",
              "    </tr>\n",
              "    <tr>\n",
              "      <th>Survived</th>\n",
              "      <td>-0.005007</td>\n",
              "      <td>1.000000</td>\n",
              "      <td>-0.338481</td>\n",
              "      <td>-0.077221</td>\n",
              "      <td>-0.035322</td>\n",
              "      <td>0.081629</td>\n",
              "      <td>0.257307</td>\n",
              "    </tr>\n",
              "    <tr>\n",
              "      <th>Pclass</th>\n",
              "      <td>-0.035144</td>\n",
              "      <td>-0.338481</td>\n",
              "      <td>1.000000</td>\n",
              "      <td>-0.369226</td>\n",
              "      <td>0.083081</td>\n",
              "      <td>0.018443</td>\n",
              "      <td>-0.549500</td>\n",
              "    </tr>\n",
              "    <tr>\n",
              "      <th>Age</th>\n",
              "      <td>0.036847</td>\n",
              "      <td>-0.077221</td>\n",
              "      <td>-0.369226</td>\n",
              "      <td>1.000000</td>\n",
              "      <td>-0.308247</td>\n",
              "      <td>-0.189119</td>\n",
              "      <td>0.096067</td>\n",
              "    </tr>\n",
              "    <tr>\n",
              "      <th>SibSp</th>\n",
              "      <td>-0.057527</td>\n",
              "      <td>-0.035322</td>\n",
              "      <td>0.083081</td>\n",
              "      <td>-0.308247</td>\n",
              "      <td>1.000000</td>\n",
              "      <td>0.414838</td>\n",
              "      <td>0.159651</td>\n",
              "    </tr>\n",
              "    <tr>\n",
              "      <th>Parch</th>\n",
              "      <td>-0.001652</td>\n",
              "      <td>0.081629</td>\n",
              "      <td>0.018443</td>\n",
              "      <td>-0.189119</td>\n",
              "      <td>0.414838</td>\n",
              "      <td>1.000000</td>\n",
              "      <td>0.216225</td>\n",
              "    </tr>\n",
              "    <tr>\n",
              "      <th>Fare</th>\n",
              "      <td>0.012658</td>\n",
              "      <td>0.257307</td>\n",
              "      <td>-0.549500</td>\n",
              "      <td>0.096067</td>\n",
              "      <td>0.159651</td>\n",
              "      <td>0.216225</td>\n",
              "      <td>1.000000</td>\n",
              "    </tr>\n",
              "  </tbody>\n",
              "</table>\n",
              "</div>"
            ],
            "text/plain": [
              "             PassengerId  Survived    Pclass  ...     SibSp     Parch      Fare\n",
              "PassengerId     1.000000 -0.005007 -0.035144  ... -0.057527 -0.001652  0.012658\n",
              "Survived       -0.005007  1.000000 -0.338481  ... -0.035322  0.081629  0.257307\n",
              "Pclass         -0.035144 -0.338481  1.000000  ...  0.083081  0.018443 -0.549500\n",
              "Age             0.036847 -0.077221 -0.369226  ... -0.308247 -0.189119  0.096067\n",
              "SibSp          -0.057527 -0.035322  0.083081  ...  1.000000  0.414838  0.159651\n",
              "Parch          -0.001652  0.081629  0.018443  ...  0.414838  1.000000  0.216225\n",
              "Fare            0.012658  0.257307 -0.549500  ...  0.159651  0.216225  1.000000\n",
              "\n",
              "[7 rows x 7 columns]"
            ]
          },
          "metadata": {
            "tags": []
          },
          "execution_count": 6
        }
      ]
    },
    {
      "cell_type": "markdown",
      "metadata": {
        "id": "fuY47kMx-De-"
      },
      "source": [
        "La primera observación obvia, pero que no hay que pasar por alto si se quiere comprender que demuestra este analisis, es que, por ejemplo, la variable con la que mas se encuentra relacionada _Survived_ es con ella misma, representado con un 1, es decir, los datos coinciden, ya con esto nos damos una idea de lo que quieren decir las distinciones en el ánalisis.\n",
        "\n",
        "Una vez dejado en claro lo anterior, podemos proceder a averiguar con que se relaciona la variable _survived_ y si tiene sentido.\n",
        "\n",
        "Relacion mas proxima, variable _Fare_ que indica el precio del boleto, esto puede estar relacionado de cierta manera en la que los pasajeros que hayan gastado mas dinero posean mas prestaciones o importancia a la hora de si ocurriese una tragedia, es decir, este precio puede estar relacionado con pagos extras sobre seguridad, salvavidas, o habitaciones con mas accesibilidad y espacio.\n",
        "\n",
        "Otra es _Parch_ que demuestra la cantidad de hijos y padres de un pasajero en particular. Como se puede observar la relacion es 0,08 o sea no se encuentra tan relacionada como la anterior, igualmente, lo que podemos exprimir de esta informacion es que es probable que si tenes familia en el barco es probable que coordines para lograr salvar a alguien cercano o a vos mismo.\n",
        "\n",
        "###Conclusión\n",
        "\n",
        "Desde mi opinion personal, considero que la informacion que nos brinda son muy vagas, dicho de otra manera, no muestran la informacion necesaria para revelar una conclusión determinante."
      ]
    },
    {
      "cell_type": "markdown",
      "metadata": {
        "id": "diPkxNMb-V3e"
      },
      "source": [
        "**2.4 Genére alguna conclusión del análisis de una o más variables.**"
      ]
    },
    {
      "cell_type": "markdown",
      "metadata": {
        "id": "6d3jbEjg-fEx"
      },
      "source": [
        "Conclusión y analisis de 2 variables en el punto 2.3\n"
      ]
    },
    {
      "cell_type": "markdown",
      "metadata": {
        "id": "gvGBT4aSYotW"
      },
      "source": [
        "**3. ¿Qué variables del conjunto de datos original seleccionara para usar? Diga los motivos y las pruebas que se hicieron.**\n",
        "\n",
        "Las variables que seleccione para usar, son las siguientes:\n",
        "\n",
        "_Survived_ Esta es imprescindible para averiguar lo que se nos pide.\n",
        "\n",
        "_Pclass_ Los motivos para elegir esta variable derivan a la diferencia entre cada numero de clase, dando a entender que, algunos sectores/clases son mas accesibles que otros por la diferencia de cantidad que pudimos notar en puntos anteriores.\n",
        "\n",
        "_Sex_ Los motivos son mas bien empiricos, esto quiere decir, que en base a mi opinion, elegi esta variable, ya que, casi siempre se da una diferencia entre los sexos, entonces considere que esta podria no ser una excepción. Las pruebas que se hicieron, al igual que en _Pclass_ es corroborar si hay datos nulos, y no los hay, lo que resulta mas amigable y facil de trabajar con estos, por ultimo hicimos una prueba para ver si existia una desigualdad y notamos una diferencia entre ambos sexos.\n",
        "\n",
        "_Age_ A pesar de que se hayan hecho pruebas y den como resultado un total de 177 datos nulos, esta nos puede ser util para determinar si la agilidad, conciencia y madurez, afectan los resultados de la cantidad de personas sobrevivientes. Basicamente la elegi para ver si realmente la capacidad fisica de cada persona (que cambia segun la edad) afecta en la conclusion final. Ademas de la prueba sobre los datos nulos, tambien se realizo una sobre la edad media de los sobrevivientes y no sobrevivientes.\n",
        "\n",
        "_SibSp_, _Parch_, _Fare_ y _Embarked_ Los motivos para elegir estas variables, se deben principalmente a que son necesarias para algunos ejercicios de mas adelante. Por lo tanto, los necesito preservar hasta que se demuestre que no influyen en la probabilidad de sobrevivir, o en otro caso, si demuestra ser influyente, se dejara. Asi que por ahora, como explique anteriormente, no los voy a quitar.\n",
        "\n",
        "Las restantes no considero que afecten la capacidad de sobrevivir, ya que, por ejemplo el nombre o numero de ticket no tienen mucha relacion con la posibilidad de sobrevivir."
      ]
    },
    {
      "cell_type": "code",
      "metadata": {
        "id": "rLKh5Csc-i6O"
      },
      "source": [
        "train.drop(columns = [\"PassengerId\", \"Name\", \"Ticket\", \"Cabin\"], inplace=True)"
      ],
      "execution_count": null,
      "outputs": []
    },
    {
      "cell_type": "markdown",
      "metadata": {
        "id": "2TYA-KGvZ033"
      },
      "source": [
        "**4. Realice la limpieza de los datos**\n",
        "\n",
        "**4.1 ¿Qué variables tienen datos nulos? ¿Tiene sentido que esas variables tengan datos nulos?**"
      ]
    },
    {
      "cell_type": "code",
      "metadata": {
        "id": "wkwBUa75-t6k",
        "colab": {
          "base_uri": "https://localhost:8080/"
        },
        "outputId": "cec2d5f5-3644-4653-89ef-4df9c88d8ae5"
      },
      "source": [
        "train.isna().sum()"
      ],
      "execution_count": null,
      "outputs": [
        {
          "output_type": "execute_result",
          "data": {
            "text/plain": [
              "Survived      0\n",
              "Pclass        0\n",
              "Sex           0\n",
              "Age         177\n",
              "SibSp         0\n",
              "Parch         0\n",
              "Fare          0\n",
              "Embarked      2\n",
              "dtype: int64"
            ]
          },
          "metadata": {
            "tags": []
          },
          "execution_count": 8
        }
      ]
    },
    {
      "cell_type": "markdown",
      "metadata": {
        "id": "v9bAaOCu-3j-"
      },
      "source": [
        "Una de las variables que tiene datos nulos es _Age_ que demuestra la edad de los pasajeros. Hay 177 de estos, lo cual son bastantes, pero aun asi, no es algo que se pueda no se pueda arreglar. Puede ser que la mayoria de los datos perdidos o no medibles, sean por parte de personas que hayan muerto en el titanic, por lo que hace dificil el buscar informacion sobre la edad de dicha persona, igualmente, si es un valor que llama la atencion, ya que, esta relacionado con la variable _Parch_ y _Name_ las cuales no poseen ningun valor nulo.\n",
        "\n",
        "_Cabin_ que muestra la cabina de los pasajeros. En esta hay muchos datos nulos, mas precisamente 687, en mi opinion no tiene mucho sentido que haya tantos datos perdidos de esa variable, ya que, si pueden detectar el Ticket y su nombre, es raro que no se averigue la Cabina. \n",
        "\n",
        "Por ultimo _Embarked_ que solo tiene 2 datos nulos, y esta nos dice de que ciudad embarcaron los pasajeros. Es posible que de esta variable haya dos datos nulos, ya que son muy pocos y si es algo probable.\n",
        "\n",
        "##Conclusión\n",
        "\n",
        "Si nos remontamos a la epoca, es posible que haya algunos datos que no se encuentren, por lo tanto, si, tiene sentido, mas siendo que el dato que mas faltan son las cabinas y que la tragedia termino destruyendo el barco, es decir, es dificil detectarlas si el movil sufrio una destrucción."
      ]
    },
    {
      "cell_type": "markdown",
      "metadata": {
        "id": "QENNHZ1-Bl7-"
      },
      "source": [
        "**4.2 Proponga y ejecute una idea para imputar los datos nulos.**"
      ]
    },
    {
      "cell_type": "markdown",
      "metadata": {
        "id": "bwKlKsXOCB-G"
      },
      "source": [
        "Para imputar los datos nulos se me ocurre que se podrian rellenar los valores faltantes utilizando el metodo _forwardfill_ y _backwardfill_ de pandas, el cual copia el valor de adelante o de atras y lo pega en la siguiente fila, es decir, se copian y pegan los datos de la misma columna.Esto lo hago para no arruinar la equivalencia."
      ]
    },
    {
      "cell_type": "code",
      "metadata": {
        "colab": {
          "base_uri": "https://localhost:8080/"
        },
        "id": "wmQG3F-i3GQV",
        "outputId": "a91bd91a-b650-45bc-858d-bf591cb097de"
      },
      "source": [
        "train.fillna(method=\"ffill\", inplace=True)\n",
        "train.fillna(method=\"bfill\", inplace=True)\n",
        "train.isna().sum()"
      ],
      "execution_count": null,
      "outputs": [
        {
          "output_type": "execute_result",
          "data": {
            "text/plain": [
              "Survived    0\n",
              "Pclass      0\n",
              "Sex         0\n",
              "Age         0\n",
              "SibSp       0\n",
              "Parch       0\n",
              "Fare        0\n",
              "Embarked    0\n",
              "dtype: int64"
            ]
          },
          "metadata": {
            "tags": []
          },
          "execution_count": 9
        }
      ]
    },
    {
      "cell_type": "markdown",
      "metadata": {
        "id": "qBpjYzko4v0l"
      },
      "source": [
        "Como se puede observar, ya no queda ningun dato nulo.\n",
        "\n",
        "Ademas si ejecutamos un grafico con la variable _Age_ podemos observar que no hay ningun dato que resalte excesivamente sobre los demas."
      ]
    },
    {
      "cell_type": "code",
      "metadata": {
        "colab": {
          "base_uri": "https://localhost:8080/",
          "height": 386
        },
        "id": "G3xJUKLZ5BIX",
        "outputId": "18848acb-6bab-4962-bf5b-758cd4ea3f50"
      },
      "source": [
        "sns.displot(data = train, x = \"Age\", kde = True)"
      ],
      "execution_count": null,
      "outputs": [
        {
          "output_type": "execute_result",
          "data": {
            "text/plain": [
              "<seaborn.axisgrid.FacetGrid at 0x7f9400458850>"
            ]
          },
          "metadata": {
            "tags": []
          },
          "execution_count": 10
        },
        {
          "output_type": "display_data",
          "data": {
            "image/png": "[encoded data removed]",
            "text/plain": [
              "<Figure size 360x360 with 1 Axes>"
            ]
          },
          "metadata": {
            "tags": [],
            "needs_background": "light"
          }
        }
      ]
    },
    {
      "cell_type": "markdown",
      "metadata": {
        "id": "sn12q_6H-8th"
      },
      "source": [
        "**4.3 ¿Qué variables tienen datos atípicos? ¿Estos datos, son equivocaciones o son reales? Proponga y ejecute una idea para tratar los mismos**"
      ]
    },
    {
      "cell_type": "code",
      "metadata": {
        "id": "aVHZf3eE_Hr2",
        "colab": {
          "base_uri": "https://localhost:8080/",
          "height": 367
        },
        "outputId": "56f60089-097e-45f9-825d-14133eb9348e"
      },
      "source": [
        "def is_outlier(column):\n",
        "  quantiles = column.quantile([0.25,0.75])\n",
        "  iqr = quantiles.diff()[0.75]\n",
        "  quantiles[0.25] -= (1.5 * iqr)\n",
        "  quantiles[0.75] += (1.5 * iqr)\n",
        "\n",
        "  return sum((column < quantiles[0.25]) | (column > quantiles[0.75])) > 0\n",
        "\n",
        "print(train[[\"Age\", \"SibSp\", \"Parch\", \"Fare\"]].apply(is_outlier))\n",
        "\n",
        "sns.boxplot(data = train[[\"Age\", \"SibSp\", \"Parch\", \"Fare\"]])"
      ],
      "execution_count": null,
      "outputs": [
        {
          "output_type": "stream",
          "text": [
            "Age      True\n",
            "SibSp    True\n",
            "Parch    True\n",
            "Fare     True\n",
            "dtype: bool\n"
          ],
          "name": "stdout"
        },
        {
          "output_type": "execute_result",
          "data": {
            "text/plain": [
              "<matplotlib.axes._subplots.AxesSubplot at 0x7f93fde84bd0>"
            ]
          },
          "metadata": {
            "tags": []
          },
          "execution_count": 11
        },
        {
          "output_type": "display_data",
          "data": {
            "image/png": "[encoded data removed]",
            "text/plain": [
              "<Figure size 432x288 with 1 Axes>"
            ]
          },
          "metadata": {
            "tags": [],
            "needs_background": "light"
          }
        }
      ]
    },
    {
      "cell_type": "markdown",
      "metadata": {
        "id": "kl1w4KBhtst4"
      },
      "source": [
        "Gracias al codigo y su representacion en grafico, podemos observar que las variables _Age_, _SibSp_, _Parch_ y _Fare_ tienen datos atípicos. Estos datos son reales. ¿Como se explica lo que hicimos en el codigo? Basicamente utilizamos is_outlier, la cual nos dice True si hay datos atipicos, para confirmarlo utilizamos un _boxplot_ o gráfico de caja, para ver un aproximado de los datos atipicos de cada variable. Con este ultimo observamos que _Fare_ es el que tiene mas de estos."
      ]
    },
    {
      "cell_type": "markdown",
      "metadata": {
        "id": "LLFh3KnUZABz"
      },
      "source": [
        "**5. ¿Qué variables considera que influyen más en la probabilidad de sobrevivir? Demuestre con gráficos.**\n",
        "\n",
        "Despues de haber realizado los graficos que estan abajo de este texto, a la conclusion que podemos llegar es que, las variables que mas influyen en la probabilidad de sobrevivir son:\n",
        "\n",
        "1. Sex\n",
        "\n",
        "2. Pclass\n",
        "\n",
        "3. Age\n",
        "\n",
        "4. Fare"
      ]
    },
    {
      "cell_type": "markdown",
      "metadata": {
        "id": "NV5OSsx_zhDG"
      },
      "source": [
        "##Surived-Pclass y Sex"
      ]
    },
    {
      "cell_type": "code",
      "metadata": {
        "colab": {
          "base_uri": "https://localhost:8080/",
          "height": 450
        },
        "id": "xQMr1_OyaJBx",
        "outputId": "01642ff5-a741-4c73-bc74-b9e7d68b1c8a"
      },
      "source": [
        "sns.factorplot(\"Sex\",\"Survived\",hue=\"Pclass\", size=4, aspect=2, data=train)"
      ],
      "execution_count": null,
      "outputs": [
        {
          "output_type": "stream",
          "text": [
            "/usr/local/lib/python3.7/dist-packages/seaborn/categorical.py:3714: UserWarning: The `factorplot` function has been renamed to `catplot`. The original name will be removed in a future release. Please update your code. Note that the default `kind` in `factorplot` (`'point'`) has changed `'strip'` in `catplot`.\n",
            "  warnings.warn(msg)\n",
            "/usr/local/lib/python3.7/dist-packages/seaborn/categorical.py:3720: UserWarning: The `size` parameter has been renamed to `height`; please update your code.\n",
            "  warnings.warn(msg, UserWarning)\n",
            "/usr/local/lib/python3.7/dist-packages/seaborn/_decorators.py:43: FutureWarning: Pass the following variables as keyword args: x, y. From version 0.12, the only valid positional argument will be `data`, and passing other arguments without an explicit keyword will result in an error or misinterpretation.\n",
            "  FutureWarning\n"
          ],
          "name": "stderr"
        },
        {
          "output_type": "execute_result",
          "data": {
            "text/plain": [
              "<seaborn.axisgrid.FacetGrid at 0x7f940986a490>"
            ]
          },
          "metadata": {
            "tags": []
          },
          "execution_count": 12
        },
        {
          "output_type": "display_data",
          "data": {
            "image/png": "[encoded data removed]",
            "text/plain": [
              "<Figure size 618.375x288 with 1 Axes>"
            ]
          },
          "metadata": {
            "tags": [],
            "needs_background": "light"
          }
        }
      ]
    },
    {
      "cell_type": "markdown",
      "metadata": {
        "id": "mPeB6cM-0DEN"
      },
      "source": [
        "Este grafico nos demuestra dos cosas.\n",
        "1. La capacidad de sobrevivir siendo mujer es mayor\n",
        "2. La capacidad de sobrevivir teniendo un numero menor de clase es mayor."
      ]
    },
    {
      "cell_type": "markdown",
      "metadata": {
        "id": "n7Y1noxs0dYj"
      },
      "source": [
        "##Survived-Age"
      ]
    },
    {
      "cell_type": "code",
      "metadata": {
        "colab": {
          "base_uri": "https://localhost:8080/",
          "height": 348
        },
        "id": "Ysx9QqdT06Dz",
        "outputId": "b12ca51d-9bc3-49b9-ada0-d2a4b858c234"
      },
      "source": [
        "# Con size modificamos el tamaño de los graficos.\n",
        "edad = sns.FacetGrid(train, col='Survived', size=4)\n",
        "# Con bins cambiamos la cantidad de barras que hay.\n",
        "edad.map(plt.hist, 'Age', bins=20)"
      ],
      "execution_count": null,
      "outputs": [
        {
          "output_type": "stream",
          "text": [
            "/usr/local/lib/python3.7/dist-packages/seaborn/axisgrid.py:316: UserWarning: The `size` parameter has been renamed to `height`; please update your code.\n",
            "  warnings.warn(msg, UserWarning)\n"
          ],
          "name": "stderr"
        },
        {
          "output_type": "execute_result",
          "data": {
            "text/plain": [
              "<seaborn.axisgrid.FacetGrid at 0x7f93fddd4350>"
            ]
          },
          "metadata": {
            "tags": []
          },
          "execution_count": 13
        },
        {
          "output_type": "display_data",
          "data": {
            "image/png": "[encoded data removed]",
            "text/plain": [
              "<Figure size 576x288 with 2 Axes>"
            ]
          },
          "metadata": {
            "tags": [],
            "needs_background": "light"
          }
        }
      ]
    },
    {
      "cell_type": "markdown",
      "metadata": {
        "id": "YLUZXZs310wR"
      },
      "source": [
        "En este grafico de barras podemos observar en un rango de todas las edades cual sobrevivio mas.\n",
        "\n",
        "1. Las barras en Survived = 1 (Sobrevivientes) Son mas elevadas a partir de los 0-4 años.\n",
        "\n",
        "2. Se encuentran mas elevadas cuando el pasajero tiene entre 20-35 años.\n",
        "\n",
        "**Conclusión:** La mayoria de los niños y edad promedio, se salvaba y eran los que tenian mas posibilidades, frente a los demas rangos de edades."
      ]
    },
    {
      "cell_type": "markdown",
      "metadata": {
        "id": "8N5pwiY83MZp"
      },
      "source": [
        "##Survived-SibSp"
      ]
    },
    {
      "cell_type": "code",
      "metadata": {
        "colab": {
          "base_uri": "https://localhost:8080/",
          "height": 296
        },
        "id": "35NgI9O23Wgb",
        "outputId": "e5f35f9c-6ffd-4f94-d445-8ba141ded5c9"
      },
      "source": [
        "sns.barplot(x=\"SibSp\",y=\"Survived\",data=train, ci=None)"
      ],
      "execution_count": null,
      "outputs": [
        {
          "output_type": "execute_result",
          "data": {
            "text/plain": [
              "<matplotlib.axes._subplots.AxesSubplot at 0x7f569174d1d0>"
            ]
          },
          "metadata": {
            "tags": []
          },
          "execution_count": 88
        },
        {
          "output_type": "display_data",
          "data": {
            "image/png": "[encoded data removed]",
            "text/plain": [
              "<Figure size 432x288 with 1 Axes>"
            ]
          },
          "metadata": {
            "tags": [],
            "needs_background": "light"
          }
        }
      ]
    },
    {
      "cell_type": "markdown",
      "metadata": {
        "id": "BTPHIkTd34Tu"
      },
      "source": [
        "_SibSp_ demuestra la cantidad de hermanos y pareja del pasajero. Por lo tanto, podemos observar que, los que mas sobreviven son los que tienen menos familiares, pero al menos tienen uno, es decir, los que no tienen ninguno tienen menos posibilidades."
      ]
    },
    {
      "cell_type": "markdown",
      "metadata": {
        "id": "WpgYghvs4aTs"
      },
      "source": [
        "##Survived-Parch"
      ]
    },
    {
      "cell_type": "code",
      "metadata": {
        "colab": {
          "base_uri": "https://localhost:8080/",
          "height": 296
        },
        "id": "kIHHqIOH4gmb",
        "outputId": "2d16cf4f-d3ed-43e0-ae39-acbaac3d3bd4"
      },
      "source": [
        "sns.barplot(x=\"Parch\",y=\"Survived\",data=train, ci=None)"
      ],
      "execution_count": null,
      "outputs": [
        {
          "output_type": "execute_result",
          "data": {
            "text/plain": [
              "<matplotlib.axes._subplots.AxesSubplot at 0x7f569149d690>"
            ]
          },
          "metadata": {
            "tags": []
          },
          "execution_count": 89
        },
        {
          "output_type": "display_data",
          "data": {
            "image/png": "[encoded data removed]",
            "text/plain": [
              "<Figure size 432x288 with 1 Axes>"
            ]
          },
          "metadata": {
            "tags": [],
            "needs_background": "light"
          }
        }
      ]
    },
    {
      "cell_type": "markdown",
      "metadata": {
        "id": "E_bessO34lNB"
      },
      "source": [
        "_Parch_ al igual que SibSp, hace mencion a la cantidad de hijos y padres del pasajero que tambien lo sean.\n",
        "\n",
        "En este grafico no podemos sacar una conclusion muy clara y astuta. Pero podemos observar que sobrevivieron mas los que tienen entre 1 y 3 familiares."
      ]
    },
    {
      "cell_type": "markdown",
      "metadata": {
        "id": "IykR-Kjx5mbP"
      },
      "source": [
        "##Survived-Fare"
      ]
    },
    {
      "cell_type": "code",
      "metadata": {
        "colab": {
          "base_uri": "https://localhost:8080/",
          "height": 296
        },
        "id": "lzIVRhGI5nJP",
        "outputId": "88187844-3907-4443-c81e-cd4d4d421079"
      },
      "source": [
        "sns.boxplot(x=\"Survived\", y=\"Fare\", data=train)"
      ],
      "execution_count": null,
      "outputs": [
        {
          "output_type": "execute_result",
          "data": {
            "text/plain": [
              "<matplotlib.axes._subplots.AxesSubplot at 0x7f56913db890>"
            ]
          },
          "metadata": {
            "tags": []
          },
          "execution_count": 90
        },
        {
          "output_type": "display_data",
          "data": {
            "image/png": "[encoded data removed]",
            "text/plain": [
              "<Figure size 432x288 with 1 Axes>"
            ]
          },
          "metadata": {
            "tags": [],
            "needs_background": "light"
          }
        }
      ]
    },
    {
      "cell_type": "markdown",
      "metadata": {
        "id": "XQeECFNG6XnM"
      },
      "source": [
        "El grafico de caja lo que nos demuestra esta vez es que, sobrevivieron mas los que pagaron una mayor cantidad que los que no lo hicieron.\n",
        "\n",
        "Podemos observarlo por 2 puntos:\n",
        "\n",
        "1. La caja de la derecha, que representa los que sobrevivieron abarca numeros mas grandes, es decir, precios de ticket mas altos.\n",
        "\n",
        "2. El promedio en la caja de los sobrevivientes es mayor a los que no sobrevivieron."
      ]
    },
    {
      "cell_type": "markdown",
      "metadata": {
        "id": "fxLmCy5l7Xyu"
      },
      "source": [
        "##Survived-Embarked"
      ]
    },
    {
      "cell_type": "code",
      "metadata": {
        "colab": {
          "base_uri": "https://localhost:8080/",
          "height": 296
        },
        "id": "xEJGZWAC7Zzy",
        "outputId": "669ac9bb-9b06-4478-dd18-b0de13658e2f"
      },
      "source": [
        "sns.barplot(x=\"Embarked\",y=\"Survived\",data=train, ci=None)"
      ],
      "execution_count": null,
      "outputs": [
        {
          "output_type": "execute_result",
          "data": {
            "text/plain": [
              "<matplotlib.axes._subplots.AxesSubplot at 0x7f5691368650>"
            ]
          },
          "metadata": {
            "tags": []
          },
          "execution_count": 91
        },
        {
          "output_type": "display_data",
          "data": {
            "image/png": "[encoded data removed]",
            "text/plain": [
              "<Figure size 432x288 with 1 Axes>"
            ]
          },
          "metadata": {
            "tags": [],
            "needs_background": "light"
          }
        }
      ]
    },
    {
      "cell_type": "markdown",
      "metadata": {
        "id": "oHCU2A5X7jnv"
      },
      "source": [
        "La variable _Embarked_ no nos muestra mucha informacion, asi que no creo que sea relevante. Aun asi, podemos decir que sobrevivieron mas los que embarcaron desde Cherboug."
      ]
    },
    {
      "cell_type": "markdown",
      "metadata": {
        "id": "0oHkeq37ZP-h"
      },
      "source": [
        "**6. Cree al menos una variable extra, expliquela y mencione por que considera que es adecuada, o no, para usar en el modelo.**\n",
        "\n",
        "En el anterior código, nuestra intención fue de elaborar una nueva variable, llamada auxpcf la cual nos permite saber como es la probabilidad de sobrevivir para cada combinación posible de las variables Pclass y Fare, relacionadas con Survived. Lo expresamos en un gráfico de calor (un poco complejo de leer), y vemos que hay una relación entre nuestras variables."
      ]
    },
    {
      "cell_type": "code",
      "metadata": {
        "colab": {
          "base_uri": "https://localhost:8080/",
          "height": 457
        },
        "id": "OLGk0wkhrjKm",
        "outputId": "4aae5390-bff4-4458-df5a-a58d0d70314b"
      },
      "source": [
        "auxpcf = train[[\"Pclass\", \"Fare\",\"Survived\"]].groupby([\"Pclass\", \"Fare\"]).agg(lambda x: sum(x)/len(x)).reset_index()\n",
        "auxpcf = auxpcf.pivot(\"Pclass\", \"Fare\", \"Survived\")\n",
        "print(auxpcf)\n",
        "sns.heatmap(auxpcf)"
      ],
      "execution_count": null,
      "outputs": [
        {
          "output_type": "stream",
          "text": [
            "Fare    0.0000    4.0125    5.0000    ...  262.3750  263.0000  512.3292\n",
            "Pclass                                ...                              \n",
            "1           0.00       NaN       0.0  ...       1.0       0.5       1.0\n",
            "2           0.00       NaN       NaN  ...       NaN       NaN       NaN\n",
            "3           0.25       0.0       NaN  ...       NaN       NaN       NaN\n",
            "\n",
            "[3 rows x 248 columns]\n"
          ],
          "name": "stdout"
        },
        {
          "output_type": "execute_result",
          "data": {
            "text/plain": [
              "<matplotlib.axes._subplots.AxesSubplot at 0x7f569077ec10>"
            ]
          },
          "metadata": {
            "tags": []
          },
          "execution_count": 154
        },
        {
          "output_type": "display_data",
          "data": {
            "image/png": "[encoded data removed]",
            "text/plain": [
              "<Figure size 432x288 with 2 Axes>"
            ]
          },
          "metadata": {
            "tags": [],
            "needs_background": "light"
          }
        }
      ]
    },
    {
      "cell_type": "markdown",
      "metadata": {
        "id": "jlIjHUP0GH2k"
      },
      "source": [
        "## Separación en entrenamiento y validación\n",
        "\n",
        "Una vez que análizamos los datos y los tenemos limpios, corresponde hacer la separación entre los datos a usar para entrenar y para validar los modelos. "
      ]
    },
    {
      "cell_type": "code",
      "metadata": {
        "id": "qHbUzwVDGe68"
      },
      "source": [
        "from sklearn.model_selection import train_test_split\n",
        "\n",
        "X_train, X_test, y_train, y_test = train_test_split(\n",
        "    train.drop(columns=[\"Survived\"]), \n",
        "    train.Survived, test_size=0.33, random_state=1\n",
        ")"
      ],
      "execution_count": null,
      "outputs": []
    },
    {
      "cell_type": "markdown",
      "metadata": {
        "id": "K8pG5lHRFt7S"
      },
      "source": [
        "## Entrenamiento\n",
        "\n",
        "Una vez separado los datos usamos los datos de entrenamiento para aprender los parámetros de nuestro modelo, en este caso usaremos una regresión logística."
      ]
    },
    {
      "cell_type": "code",
      "metadata": {
        "id": "92YoMpqJta7d",
        "colab": {
          "base_uri": "https://localhost:8080/"
        },
        "outputId": "f7817a29-5c45-46e7-d488-658670752f5e"
      },
      "source": [
        "from sklearn.linear_model import LogisticRegression\n",
        "\n",
        "LogReg = LogisticRegression(random_state=0)\n",
        "\n",
        "LogReg.fit(X_train, y_train)"
      ],
      "execution_count": null,
      "outputs": [
        {
          "output_type": "stream",
          "text": [
            "/usr/local/lib/python3.7/dist-packages/sklearn/linear_model/_logistic.py:940: ConvergenceWarning: lbfgs failed to converge (status=1):\n",
            "STOP: TOTAL NO. of ITERATIONS REACHED LIMIT.\n",
            "\n",
            "Increase the number of iterations (max_iter) or scale the data as shown in:\n",
            "    https://scikit-learn.org/stable/modules/preprocessing.html\n",
            "Please also refer to the documentation for alternative solver options:\n",
            "    https://scikit-learn.org/stable/modules/linear_model.html#logistic-regression\n",
            "  extra_warning_msg=_LOGISTIC_SOLVER_CONVERGENCE_MSG)\n"
          ],
          "name": "stderr"
        },
        {
          "output_type": "execute_result",
          "data": {
            "text/plain": [
              "LogisticRegression(C=1.0, class_weight=None, dual=False, fit_intercept=True,\n",
              "                   intercept_scaling=1, l1_ratio=None, max_iter=100,\n",
              "                   multi_class='auto', n_jobs=None, penalty='l2',\n",
              "                   random_state=0, solver='lbfgs', tol=0.0001, verbose=0,\n",
              "                   warm_start=False)"
            ]
          },
          "metadata": {
            "tags": []
          },
          "execution_count": 123
        }
      ]
    },
    {
      "cell_type": "code",
      "metadata": {
        "colab": {
          "base_uri": "https://localhost:8080/"
        },
        "id": "yCkxlBpER8Vl",
        "outputId": "949aa6b8-7aef-4aff-ca0c-06205a42378a"
      },
      "source": [
        "pred = LogReg.predict(X_test)\n",
        " \n",
        "# Exactitud\n",
        "accuracy = (pred == y_test).sum() / pred.size\n",
        "print(\"Exactitud: {}\".format(accuracy))\n",
        " \n",
        "# Precisión\n",
        "precision = (pred + y_test == 2).sum() / pred.sum()\n",
        "print(\"Precisión: {}\".format(precision))\n",
        " \n",
        "# Exhaustividad\n",
        "recall = (pred + y_test == 2).sum() / y_test.sum()\n",
        "print(\"Exhaustividad: {}\".format(recall))\n",
        " \n",
        "# Valor F\n",
        "fScore = 2 * precision * recall / (precision + recall)\n",
        "print(\"Valor F: {}\".format(fScore))"
      ],
      "execution_count": null,
      "outputs": [
        {
          "output_type": "stream",
          "text": [
            "Exactitud: 0.6915254237288135\n",
            "Precisión: 0.6875\n",
            "Exhaustividad: 0.45454545454545453\n",
            "Valor F: 0.5472636815920398\n"
          ],
          "name": "stdout"
        }
      ]
    }
  ]
}